





import pandas as pd
from pathlib import Path

# ระบุ path dataset
base_dir = Path(r"S:\BusinessAnalyticProject\data")
data_path = base_dir / "Walmart_Sales.csv"

# โหลด dataset
df = pd.read_csv(data_path)

# แปลงวันที่ (ให้ pandas เดา format โดยสมมติ dayfirst)
df['Date'] = pd.to_datetime(df['Date'], dayfirst=True, errors='coerce')

# ตรวจ NaT เผื่อมีวันที่ที่ parse ไม่ได้
print("Unparsed dates (NaT):", df['Date'].isna().sum())

# จัดเรียงตาม Store + Date
df = df.sort_values(['Store', 'Date']).reset_index(drop=True)

df.head()






df['Year']      = df['Date'].dt.year
df['Month']     = df['Date'].dt.month
df['Week']      = df['Date'].dt.isocalendar().week.astype(int)
df['Quarter']   = df['Date'].dt.quarter
df['DayOfWeek'] = df['Date'].dt.dayofweek  # Monday=0

# seasonality แบบวงจร
import numpy as np
df['Month_sin'] = np.sin(2*np.pi*df['Month']/12)
df['Month_cos'] = np.cos(2*np.pi*df['Month']/12)
df['Peak_Season_Flag'] = df['Month'].isin([11, 12]).astype(int)

pd.options.display.float_format = '{:.4f}'.format  # แสดงทศนิยม 4 ตำแหน่ง
df.head()







# ใช้ปีแรกในชุดข้อมูลเป็นปีฐาน
base_year = df['Year'].min()
base_cpi  = df.loc[df['Year'] == base_year, 'CPI'].mean()

df['Weekly_Sales_Real'] = df['Weekly_Sales'] * (base_cpi / df['CPI'])
df.head()





def add_lag_roll(d, col='Weekly_Sales_Real', group='Store'):
    d = d.sort_values(['Store','Date']).copy()
    # lags: 1–2 สัปดาห์, 4–8 สัปดาห์, 52 สัปดาห์ (1 ปี)
    for l in [1, 2, 4, 8, 52]:
        d[f'{col}_lag{l}'] = d.groupby(group)[col].shift(l)
    # rolling: ค่าเฉลี่ย/ส่วนเบี่ยงเบนมาตรฐาน
    for w in [4, 8, 12, 52]:
        d[f'{col}_rollmean{w}'] = d.groupby(group)[col].shift(1).rolling(w).mean()
        d[f'{col}_rollstd{w}']  = d.groupby(group)[col].shift(1).rolling(w).std()
    return d

df = add_lag_roll(df, col='Weekly_Sales_Real', group='Store')
df.head()





for col in ['Temperature', 'Fuel_Price', 'Unemployment', 'CPI']:
    df[f'{col}_lag1']  = df.groupby('Store')[col].shift(1)
    df[f'{col}_roll8'] = df.groupby('Store')[col].shift(1).rolling(8).mean()
df.head()





# ค่าเฉลี่ยสะสมจนถึงสัปดาห์ก่อนหน้า
df['Store_avg_to_date'] = (
    df.groupby('Store')['Weekly_Sales_Real']
      .apply(lambda s: s.shift(1).expanding().mean())
      .reset_index(level=0, drop=True)
)

# โมเมนตัม 8 สัปดาห์ (≥1 = เหนือค่าเฉลี่ยระยะสั้น)
df['Momentum_8w'] = df['Weekly_Sales_Real'] / df['Weekly_Sales_Real'].rolling(8).mean()
df.head()





def iqr_cap(s, k=1.5):
    q1, q3 = s.quantile([0.25, 0.75])
    iqr = q3 - q1
    lo, hi = q1 - k*iqr, q3 + k*iqr
    return s.clip(lo, hi)

df['Weekly_Sales_Real_capped'] = df.groupby('Store')['Weekly_Sales_Real'].transform(iqr_cap)
df.head()





df['Target_next_week'] = df.groupby('Store')['Weekly_Sales_Real_capped'].shift(-1)

# ตัดแถวที่มี NaN จากการทำ lag/shift
before = len(df)
df_model = df.dropna().reset_index(drop=True)
print(f"Rows: {before:,} → {len(df_model):,} after dropna")
df.head()





feature_cols = [
    # calendar
    'Year','Month','Week','Quarter','DayOfWeek','Month_sin','Month_cos',
    # flags
    'Holiday_Flag','Peak_Season_Flag',
    # lags/rolls ของยอดขายจริง
    'Weekly_Sales_Real_lag1','Weekly_Sales_Real_lag2','Weekly_Sales_Real_lag4',
    'Weekly_Sales_Real_rollmean4','Weekly_Sales_Real_rollmean8','Weekly_Sales_Real_rollstd8',
    # external drivers
    'Temperature_lag1','Fuel_Price_lag1','Unemployment_lag1','CPI_lag1',
    'Temperature_roll8','Fuel_Price_roll8','Unemployment_roll8',
    # store
    'Store_avg_to_date','Momentum_8w'
]

X = df_model[feature_cols].copy()
y = df_model['Target_next_week'].copy()

meta = df_model[['Store','Date','Weekly_Sales','Weekly_Sales_Real']]
X.shape, y.shape
df.head()






from pathlib import Path
out_dir = Path(r"S:\BusinessAnalyticProject\data\processed")
out_dir.mkdir(parents=True, exist_ok=True)

df_out = pd.concat([meta, X, y.rename('Target')], axis=1)
df_out.to_csv(out_dir / "walmart_features_weekly.csv", index=False)

df_out.head()




