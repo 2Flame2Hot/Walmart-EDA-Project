





import pandas as pd
from pathlib import Path
from sklearn.metrics import mean_squared_error, mean_absolute_percentage_error
import numpy as np

data_path = Path(r"S:\BusinessAnalyticProject\data\processed\walmart_features_weekly.csv")
df = pd.read_csv(data_path, parse_dates=['Date'])

# split ตามเวลา: train = 2010–2011, test = 2012
split_date = pd.Timestamp('2012-01-01')
train = df[df['Date'] < split_date].copy()
test  = df[df['Date'] >= split_date].copy()

target_col = 'Target'
id_cols = ['Store','Date','Weekly_Sales','Weekly_Sales_Real']

feature_cols = [c for c in df.columns if c not in id_cols + [target_col]]

X_train, y_train = train[feature_cols], train[target_col]
X_test,  y_test  = test[feature_cols],  test[target_col]

X_train.shape, X_test.shape






from xgboost import XGBRegressor
from sklearn.metrics import mean_squared_error, mean_absolute_percentage_error
import numpy as np

model = XGBRegressor(
    n_estimators=500,
    max_depth=6,
    learning_rate=0.05,
    subsample=0.8,
    colsample_bytree=0.8,
    random_state=42,
    n_jobs=-1,
    tree_method="hist"
)
model.fit(X_train, y_train)

mse  = mean_squared_error(y_test, pred)
rmse = np.sqrt(mse)  # เอารากที่สองเอง
mape = mean_absolute_percentage_error(y_test, pred)

print(f"RMSE: {rmse:,.0f}")
print(f"MAPE: {mape*100:.2f}%")






import matplotlib.pyplot as plt

plt.figure(figsize=(12,6))
plt.plot(y_test.values[:100], label="Actual", marker='o')
plt.plot(pred[:100], label="Predicted", marker='x')
plt.title("Actual vs Predicted (first 100 samples)")
plt.legend()
plt.show()






import pandas as pd
import seaborn as sns

importance = model.feature_importances_
feat_imp = pd.Series(importance, index=feature_cols).sort_values(ascending=False)

plt.figure(figsize=(10,6))
sns.barplot(x=feat_imp.values[:15], y=feat_imp.index[:15])
plt.title("Top 15 Important Features")
plt.show()




