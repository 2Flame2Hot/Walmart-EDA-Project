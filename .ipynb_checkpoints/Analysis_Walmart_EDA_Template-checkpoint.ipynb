{
 "cells": [
  {
   "cell_type": "markdown",
   "id": "0eb74681",
   "metadata": {},
   "source": [
    "\n",
    "# Walmart Sales Analysis (EDA)\n",
    "\n",
    "**Objective:** วิเคราะห์ข้อมูลยอดขายรายสัปดาห์ของ Walmart เพื่อหาแนวโน้มตามฤดูกาล (seasonality), ผลของช่วงเทศกาล (holiday impact), ร้านที่ทำผลงานดีที่สุด (top stores) และความสัมพันธ์กับตัวแปรภายนอก (เช่น Fuel Price, CPI, Unemployment)\n",
    "\n",
    "> ใช้ Notebook นี้เป็นแม่แบบ (template) — แต่ละส่วนมี *Markdown* อธิบาย และ *Code* แยกเป็นสัดส่วน\n"
   ]
  },
  {
   "cell_type": "markdown",
   "id": "c70f4240",
   "metadata": {},
   "source": [
    "## 1) Setup & Imports"
   ]
  },
  {
   "cell_type": "code",
   "execution_count": null,
   "id": "0b7692d1",
   "metadata": {},
   "outputs": [],
   "source": [
    "\n",
    "import pandas as pd\n",
    "import numpy as np\n",
    "import matplotlib.pyplot as plt\n",
    "\n",
    "# (Optional) ถ้ามี seaborn แนะนำให้ใช้เพื่อกราฟสวยขึ้น\n",
    "try:\n",
    "    import seaborn as sns\n",
    "    sns.set(style=\"whitegrid\")\n",
    "except Exception:\n",
    "    sns = None\n",
    "    pass\n",
    "\n",
    "pd.set_option('display.float_format', lambda x: f'{x:,.2f}')\n"
   ]
  },
  {
   "cell_type": "markdown",
   "id": "436541b9",
   "metadata": {},
   "source": [
    "\n",
    "## 2) Load Dataset\n",
    "\n",
    "- แก้ไขตัวแปร `DATA_PATH` ให้ชี้ไปที่ไฟล์ CSV ของคุณ\n",
    "- จากนั้นรันเซลล์นี้เพื่อโหลดข้อมูลและดู 5 แถวแรก\n"
   ]
  },
  {
   "cell_type": "code",
   "execution_count": null,
   "id": "fa4d5e01",
   "metadata": {},
   "outputs": [],
   "source": [
    "\n",
    "# >>> เปลี่ยนพาธไฟล์ตามจริงของคุณ <<<\n",
    "DATA_PATH = r\"S:\\BusinessAnalyticProject\\Walmart_Sales.csv\"\n",
    "\n",
    "df = pd.read_csv(DATA_PATH)\n",
    "df.head()\n"
   ]
  },
  {
   "cell_type": "markdown",
   "id": "5ba75bc3",
   "metadata": {},
   "source": [
    "\n",
    "## 3) Initial Data Checks\n",
    "ตรวจสอบโครงสร้างข้อมูลเบื้องต้น: ขนาดข้อมูล, ชนิดข้อมูล, สถิติสรุป, และ missing values\n"
   ]
  },
  {
   "cell_type": "code",
   "execution_count": null,
   "id": "c27fbda0",
   "metadata": {},
   "outputs": [],
   "source": [
    "\n",
    "print(\"Shape:\", df.shape)\n",
    "display(df.info())\n",
    "display(df.describe(include='all'))\n",
    "print(\"\\nMissing values per column:\")\n",
    "print(df.isnull().sum())\n"
   ]
  },
  {
   "cell_type": "markdown",
   "id": "7e7861a9",
   "metadata": {},
   "source": [
    "\n",
    "## 4) Data Preparation (Date → datetime, New Columns)\n",
    "\n",
    "- แปลง `Date` จาก object เป็น `datetime`\n",
    "- สร้างคอลัมน์ `Year` และ `Month`\n"
   ]
  },
  {
   "cell_type": "code",
   "execution_count": null,
   "id": "17f2a635",
   "metadata": {},
   "outputs": [],
   "source": [
    "\n",
    "# ถ้าข้อมูลวัน/เดือน/ปี เช่น 05-02-2010 ให้ใช้ dayfirst=True หรือระบุ format='%d-%m-%Y'\n",
    "try:\n",
    "    df['Date'] = pd.to_datetime(df['Date'], format='%d-%m-%Y')\n",
    "except Exception:\n",
    "    df['Date'] = pd.to_datetime(df['Date'], dayfirst=True, errors='coerce')\n",
    "\n",
    "df['Year'] = df['Date'].dt.year\n",
    "df['Month'] = df['Date'].dt.month\n",
    "\n",
    "df[['Date', 'Year', 'Month']].head()\n"
   ]
  },
  {
   "cell_type": "markdown",
   "id": "504f1e9c",
   "metadata": {},
   "source": [
    "\n",
    "## 5) Duplicates Check\n",
    "ตรวจสอบแถวข้อมูลซ้ำ และลบออกถ้าจำเป็น\n"
   ]
  },
  {
   "cell_type": "code",
   "execution_count": null,
   "id": "6b4bd556",
   "metadata": {},
   "outputs": [],
   "source": [
    "\n",
    "dups = df.duplicated().sum()\n",
    "print(f\"Duplicate rows: {dups}\")\n",
    "# ถ้าต้องการลบข้อมูลซ้ำ ให้ uncomment บรรทัดด้านล่าง\n",
    "# df = df.drop_duplicates().copy()\n"
   ]
  },
  {
   "cell_type": "markdown",
   "id": "3ee87a1b",
   "metadata": {},
   "source": [
    "\n",
    "## 6) EDA — Trend ของยอดขายรวมตามเวลา\n"
   ]
  },
  {
   "cell_type": "code",
   "execution_count": null,
   "id": "2271dcc6",
   "metadata": {},
   "outputs": [],
   "source": [
    "\n",
    "sales_trend = df.groupby('Date')['Weekly_Sales'].sum().reset_index()\n",
    "\n",
    "plt.figure(figsize=(14,6))\n",
    "plt.plot(sales_trend['Date'], sales_trend['Weekly_Sales'])\n",
    "plt.title('Total Weekly Sales Over Time', fontsize=15)\n",
    "plt.xlabel('Date'); plt.ylabel('Weekly Sales')\n",
    "plt.tight_layout(); plt.show()\n"
   ]
  },
  {
   "cell_type": "markdown",
   "id": "f0f8d51a",
   "metadata": {},
   "source": [
    "\n",
    "## 7) EDA — Holiday vs Non-Holiday Sales\n",
    "(ต้องมีคอลัมน์ `Holiday_Flag` = 1 สำหรับสัปดาห์เทศกาล)\n"
   ]
  },
  {
   "cell_type": "code",
   "execution_count": null,
   "id": "d5df1e98",
   "metadata": {},
   "outputs": [],
   "source": [
    "\n",
    "if 'Holiday_Flag' in df.columns:\n",
    "    if sns:\n",
    "        plt.figure(figsize=(8,6))\n",
    "        sns.boxplot(data=df, x='Holiday_Flag', y='Weekly_Sales', showmeans=True,\n",
    "                    meanline=True, meanprops={'color':'red','ls':'--','lw':2})\n",
    "        plt.title('Holiday vs Non-Holiday Sales')\n",
    "        plt.xticks([0,1], ['Non-Holiday','Holiday'])\n",
    "        plt.tight_layout(); plt.show()\n",
    "    else:\n",
    "        # matplotlib-only fallback (simple boxplot)\n",
    "        data_non = df.loc[df['Holiday_Flag']==0, 'Weekly_Sales'].values\n",
    "        data_hol = df.loc[df['Holiday_Flag']==1, 'Weekly_Sales'].values\n",
    "        plt.figure(figsize=(8,6))\n",
    "        plt.boxplot([data_non, data_hol], labels=['Non-Holiday','Holiday'], showmeans=True)\n",
    "        plt.title('Holiday vs Non-Holiday Sales')\n",
    "        plt.ylabel('Weekly Sales')\n",
    "        plt.tight_layout(); plt.show()\n",
    "else:\n",
    "    print(\"Column 'Holiday_Flag' not found in dataset.\")\n"
   ]
  },
  {
   "cell_type": "markdown",
   "id": "5d88252d",
   "metadata": {},
   "source": [
    "\n",
    "## 8) EDA — Top 10 Stores by Average Weekly Sales\n"
   ]
  },
  {
   "cell_type": "code",
   "execution_count": null,
   "id": "adffdec2",
   "metadata": {},
   "outputs": [],
   "source": [
    "\n",
    "top_stores = (df.groupby('Store')['Weekly_Sales']\n",
    "                .mean()\n",
    "                .sort_values(ascending=False)\n",
    "                .head(10))\n",
    "\n",
    "plt.figure(figsize=(10,5))\n",
    "plt.bar(top_stores.index.astype(str), top_stores.values)\n",
    "plt.title('Top 10 Stores by Average Weekly Sales')\n",
    "plt.xlabel('Store'); plt.ylabel('Average Weekly Sales')\n",
    "plt.tight_layout(); plt.show()\n"
   ]
  },
  {
   "cell_type": "markdown",
   "id": "b28a5ad9",
   "metadata": {},
   "source": [
    "\n",
    "## 9) Seasonality — Average Weekly Sales by Month (All Years)\n"
   ]
  },
  {
   "cell_type": "code",
   "execution_count": null,
   "id": "71f6c255",
   "metadata": {},
   "outputs": [],
   "source": [
    "\n",
    "monthly_avg = df.groupby('Month')['Weekly_Sales'].mean().reset_index()\n",
    "\n",
    "plt.figure(figsize=(10,5))\n",
    "plt.bar(monthly_avg['Month'].astype(str), monthly_avg['Weekly_Sales'])\n",
    "plt.title('Average Weekly Sales by Month (All Years)')\n",
    "plt.xlabel('Month'); plt.ylabel('Average Weekly Sales')\n",
    "plt.tight_layout(); plt.show()\n"
   ]
  },
  {
   "cell_type": "markdown",
   "id": "5a55aa82",
   "metadata": {},
   "source": [
    "\n",
    "## 10) Seasonality — Monthly Average Sales by Year\n"
   ]
  },
  {
   "cell_type": "code",
   "execution_count": null,
   "id": "770bbf14",
   "metadata": {},
   "outputs": [],
   "source": [
    "\n",
    "monthly_by_year = (df.groupby(['Year','Month'])['Weekly_Sales']\n",
    "                     .mean().reset_index())\n",
    "\n",
    "plt.figure(figsize=(12,6))\n",
    "for yr, sub in monthly_by_year.groupby('Year'):\n",
    "    plt.plot(sub['Month'], sub['Weekly_Sales'], marker='o', label=str(yr))\n",
    "plt.title('Monthly Average Sales by Year')\n",
    "plt.xlabel('Month'); plt.ylabel('Average Weekly Sales')\n",
    "plt.legend(title='Year', bbox_to_anchor=(1.02, 1), loc='upper left')\n",
    "plt.tight_layout(); plt.show()\n"
   ]
  },
  {
   "cell_type": "markdown",
   "id": "689e2394",
   "metadata": {},
   "source": [
    "\n",
    "## 11) Correlation Analysis\n",
    "ตรวจสอบความสัมพันธ์ของยอดขายกับตัวแปรภายนอก เช่น `Temperature`, `Fuel_Price`, `CPI`, `Unemployment`\n"
   ]
  },
  {
   "cell_type": "code",
   "execution_count": null,
   "id": "5142c7da",
   "metadata": {},
   "outputs": [],
   "source": [
    "\n",
    "num_cols = ['Weekly_Sales','Temperature','Fuel_Price','CPI','Unemployment']\n",
    "num_cols = [c for c in num_cols if c in df.columns]\n",
    "corr = df[num_cols].corr(method='pearson')\n",
    "\n",
    "plt.figure(figsize=(7,5))\n",
    "if sns:\n",
    "    sns.heatmap(corr, annot=True, cmap='coolwarm', vmin=-1, vmax=1)\n",
    "else:\n",
    "    im = plt.imshow(corr, cmap='coolwarm', vmin=-1, vmax=1)\n",
    "    plt.colorbar(im, fraction=0.046, pad=0.04)\n",
    "    plt.xticks(range(len(num_cols)), num_cols, rotation=45, ha='right')\n",
    "    plt.yticks(range(len(num_cols)), num_cols)\n",
    "plt.title('Correlation Heatmap (Pearson)')\n",
    "plt.tight_layout(); plt.show()\n"
   ]
  },
  {
   "cell_type": "markdown",
   "id": "282fd52f",
   "metadata": {},
   "source": [
    "\n",
    "## 12) Insights & Recommendations (สรุป)\n",
    "- **Seasonality:** …\n",
    "- **Holiday impact:** …\n",
    "- **Top stores:** …\n",
    "- **External factors:** …\n",
    "\n",
    "## 13) Next Steps\n",
    "- ทำ Dashboard ด้วย Streamlit / Power BI\n",
    "- เพิ่ม Forecasting (Prophet / ARIMA) ถ้าต้องการ\n",
    "- จัดทำ README.md พร้อมภาพตัวอย่างกราฟ\n"
   ]
  }
 ],
 "metadata": {
  "kernelspec": {
   "display_name": "Python 3 (ipykernel)",
   "language": "python",
   "name": "python3"
  },
  "language_info": {
   "codemirror_mode": {
    "name": "ipython",
    "version": 3
   },
   "file_extension": ".py",
   "mimetype": "text/x-python",
   "name": "python",
   "nbconvert_exporter": "python",
   "pygments_lexer": "ipython3",
   "version": "3.13.5"
  }
 },
 "nbformat": 4,
 "nbformat_minor": 5
}
